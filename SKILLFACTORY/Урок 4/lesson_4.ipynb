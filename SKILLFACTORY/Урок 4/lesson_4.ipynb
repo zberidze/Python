{
 "cells": [
  {
   "cell_type": "code",
   "execution_count": 13,
   "metadata": {},
   "outputs": [
    {
     "name": "stdout",
     "output_type": "stream",
     "text": [
      "У вас в наличии 100\n",
      "У вас в наличии 50\n",
      "У вас в наличии 0\n",
      "Извините, баланс равен 0\n",
      "Отлично, продолжим...\n",
      "У вас в наличии 50\n",
      "У вас в наличии 0\n",
      "Извините, баланс равен 0\n",
      "Спасибо за использование программы\n"
     ]
    }
   ],
   "source": [
    "while True:\n",
    "    budzhet = input(\"Введите имеющиеся средства?\\t\")\n",
    "    while not budzhet.isdigit():\n",
    "        budzhet = input(\"Введите имеющиеся средства?\\t\")\n",
    "    budzhet = int(budzhet)\n",
    "    print(f'У вас в наличии {budzhet}')\n",
    "    while budzhet > 0:\n",
    "        price = int(input(\"Введите стоимость покупки: \"))\n",
    "        budzhet -= price\n",
    "        print(f'У вас в наличии {budzhet}')\n",
    "    else:\n",
    "        print('Извините, баланс равен 0')\n",
    "    answer = input(\"Вы хотите продолжить покупки? \").lower()\n",
    "    while answer not in ['да',\"нет\"]:\n",
    "        answer = input(\"Уточните ответ: да или нет? \")\n",
    "    if answer == 'да':\n",
    "        print('Отлично, продолжим...')\n",
    "    elif answer == 'нет':\n",
    "        print('Спасибо за использование программы')\n",
    "        break\n",
    "\n",
    "\n",
    "\n",
    "\n"
   ]
  },
  {
   "cell_type": "code",
   "execution_count": 9,
   "metadata": {},
   "outputs": [
    {
     "name": "stdout",
     "output_type": "stream",
     "text": [
      "False\n",
      "53\n"
     ]
    }
   ],
   "source": [
    "print(5=='5')\n",
    "print(ord('5'))"
   ]
  },
  {
   "cell_type": "code",
   "execution_count": 15,
   "metadata": {},
   "outputs": [
    {
     "name": "stdout",
     "output_type": "stream",
     "text": [
      "Hello\n",
      "Hello\n",
      "Hello\n",
      "Hello\n",
      "Hello\n"
     ]
    }
   ],
   "source": [
    "for number in ['a', 'b', 3, 4, 5]:\n",
    "    print('Hello')"
   ]
  },
  {
   "cell_type": "code",
   "execution_count": 17,
   "metadata": {},
   "outputs": [
    {
     "name": "stdout",
     "output_type": "stream",
     "text": [
      "[1, 5, 9, 13, 17, 21, 25, 29, 33, 37, 41, 45, 49, 53, 57, 61, 65, 69, 73, 77, 81, 85, 89, 93, 97]\n"
     ]
    }
   ],
   "source": [
    "print(list(range(1,100,4)))"
   ]
  },
  {
   "cell_type": "code",
   "execution_count": 18,
   "metadata": {},
   "outputs": [
    {
     "name": "stdout",
     "output_type": "stream",
     "text": [
      "1\n",
      "6\n",
      "11\n",
      "16\n",
      "21\n",
      "26\n",
      "31\n",
      "36\n",
      "41\n",
      "46\n",
      "51\n",
      "56\n",
      "61\n",
      "66\n",
      "71\n",
      "76\n",
      "81\n",
      "86\n",
      "91\n",
      "96\n"
     ]
    }
   ],
   "source": [
    "for i in range(1, 100, 5):\n",
    "    print(i)"
   ]
  },
  {
   "cell_type": "code",
   "execution_count": 21,
   "metadata": {},
   "outputs": [
    {
     "name": "stdout",
     "output_type": "stream",
     "text": [
      "Russia ['Moscow', 145, 17100]\n",
      "Moscow\n",
      "145\n",
      "17100\n",
      "Беларусь ['Минск', 10, 207]\n",
      "Минск\n",
      "10\n",
      "207\n"
     ]
    }
   ],
   "source": [
    "countries = {'Russia':['Moscow', 145, 17100], 'Беларусь':['Минск', 10, 207]}\n",
    "for i in countries:\n",
    "    print(i, countries[i])\n",
    "    for j in countries[i]:\n",
    "        print(j)"
   ]
  },
  {
   "cell_type": "code",
   "execution_count": 22,
   "metadata": {},
   "outputs": [
    {
     "name": "stdout",
     "output_type": "stream",
     "text": [
      "Russia ['Moscow', 145, 17100]\n",
      "Беларусь ['Минск', 10, 207]\n"
     ]
    }
   ],
   "source": [
    "for k, v in countries.items():\n",
    "    print(k, v)"
   ]
  },
  {
   "cell_type": "code",
   "execution_count": 23,
   "metadata": {},
   "outputs": [
    {
     "name": "stdout",
     "output_type": "stream",
     "text": [
      "0 Moscow\n",
      "1 145\n",
      "2 17100\n"
     ]
    }
   ],
   "source": [
    "for i, j in enumerate(countries['Russia']):\n",
    "    print(i, j)"
   ]
  }
 ],
 "metadata": {
  "kernelspec": {
   "display_name": "Python 3.10.5 ('venv': venv)",
   "language": "python",
   "name": "python3"
  },
  "language_info": {
   "codemirror_mode": {
    "name": "ipython",
    "version": 3
   },
   "file_extension": ".py",
   "mimetype": "text/x-python",
   "name": "python",
   "nbconvert_exporter": "python",
   "pygments_lexer": "ipython3",
   "version": "3.10.5"
  },
  "orig_nbformat": 4,
  "vscode": {
   "interpreter": {
    "hash": "eac372bd9ac28341e042fe2e63a7c0866940b27cd71f7e62eaa6d555d7df7658"
   }
  }
 },
 "nbformat": 4,
 "nbformat_minor": 2
}
