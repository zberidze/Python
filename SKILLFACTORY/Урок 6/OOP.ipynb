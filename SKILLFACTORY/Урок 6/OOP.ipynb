{
 "cells": [
  {
   "cell_type": "code",
   "execution_count": 20,
   "metadata": {},
   "outputs": [],
   "source": [
    "import random"
   ]
  },
  {
   "cell_type": "code",
   "execution_count": 21,
   "metadata": {},
   "outputs": [],
   "source": [
    "class Human:\n",
    "    def __init__(self, name, age, location):\n",
    "        self.name = name\n",
    "        self.age = age\n",
    "        self.budget = 1000\n",
    "        self.location = location\n",
    "    def __str__(self):\n",
    "        return f'Имя персонажа {self.name}, возраст {self.age}, бюджет - {self.budget} $, имущество {self.location}'\n",
    "    def grow(self):\n",
    "        self.age += 1\n",
    "        self.budget += random.randint(1000, 2000)\n",
    "    def live(self):\n",
    "        i = ('Особняк','отсутствует','шалаш')\n",
    "        n = random.choice(i)\n",
    "        self.location = n\n",
    "        \n",
    "        \n",
    "\n"
   ]
  },
  {
   "cell_type": "code",
   "execution_count": 22,
   "metadata": {},
   "outputs": [
    {
     "name": "stdout",
     "output_type": "stream",
     "text": [
      "Имя персонажа Саша, возраст 30, бюджет - 1000 $, имущество шалаш\n"
     ]
    }
   ],
   "source": [
    "pushkin = Human('Саша', 30, \"шалаш\")\n",
    "print(pushkin)"
   ]
  },
  {
   "cell_type": "code",
   "execution_count": 23,
   "metadata": {},
   "outputs": [
    {
     "name": "stdout",
     "output_type": "stream",
     "text": [
      "Имя персонажа Саша, возраст 31, бюджет - 2251 $, имущество шалаш\n"
     ]
    }
   ],
   "source": [
    "pushkin.grow()\n",
    "print(pushkin)"
   ]
  },
  {
   "cell_type": "code",
   "execution_count": 25,
   "metadata": {},
   "outputs": [
    {
     "name": "stdout",
     "output_type": "stream",
     "text": [
      "Имя персонажа Саша, возраст 31, бюджет - 2251 $, имущество отсутствует\n"
     ]
    }
   ],
   "source": [
    "pushkin.live()\n",
    "print(pushkin)"
   ]
  },
  {
   "cell_type": "code",
   "execution_count": null,
   "metadata": {},
   "outputs": [],
   "source": []
  }
 ],
 "metadata": {
  "kernelspec": {
   "display_name": "Python 3.10.5 64-bit",
   "language": "python",
   "name": "python3"
  },
  "language_info": {
   "codemirror_mode": {
    "name": "ipython",
    "version": 3
   },
   "file_extension": ".py",
   "mimetype": "text/x-python",
   "name": "python",
   "nbconvert_exporter": "python",
   "pygments_lexer": "ipython3",
   "version": "3.10.5"
  },
  "orig_nbformat": 4,
  "vscode": {
   "interpreter": {
    "hash": "26de051ba29f2982a8de78e945f0abaf191376122a1563185a90213a26c5da77"
   }
  }
 },
 "nbformat": 4,
 "nbformat_minor": 2
}
