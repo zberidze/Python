{
 "cells": [
  {
   "cell_type": "code",
   "execution_count": 13,
   "metadata": {},
   "outputs": [],
   "source": [
    "with open('test.txt', 'w', encoding='UTF-8') as f:\n",
    "    f.write('Унылая пора')"
   ]
  },
  {
   "cell_type": "code",
   "execution_count": 14,
   "metadata": {},
   "outputs": [],
   "source": [
    "with open('test.txt', 'a', encoding='UTF-8') as f:\n",
    "    f.writelines('\\n'+'Очей очарование')"
   ]
  },
  {
   "cell_type": "code",
   "execution_count": 17,
   "metadata": {},
   "outputs": [
    {
     "data": {
      "text/plain": [
       "['Унылая пора! Очей очарованье!\\n',\n",
       " 'Приятна мне твоя прощальная краса —\\n',\n",
       " 'Люблю я пышное природы увяданье,\\n',\n",
       " 'В багрец и в золото одетые леса,\\n',\n",
       " 'В их сенях ветра шум и свежее дыханье,\\n',\n",
       " 'И мглой волнистою покрыты небеса,\\n',\n",
       " 'И редкий солнца луч, и первые морозы,\\n',\n",
       " 'И отдаленные седой зимы угрозы.\\n']"
      ]
     },
     "execution_count": 17,
     "metadata": {},
     "output_type": "execute_result"
    }
   ],
   "source": [
    "with open('test1.txt','r', encoding='UTF-8') as f:\n",
    "    l = []\n",
    "    for line in f:\n",
    "        l.append(line)\n",
    "l"
   ]
  },
  {
   "cell_type": "code",
   "execution_count": 29,
   "metadata": {},
   "outputs": [
    {
     "name": "stdout",
     "output_type": "stream",
     "text": [
      "Ун ылая  пора! Очей очарованье!\n",
      "\n"
     ]
    }
   ],
   "source": [
    "with open('test1.txt','r', encoding='UTF-8') as f:\n",
    "    line = f.read(2)\n",
    "    line1 = f.read(5)\n",
    "    l = f.readline()\n",
    "print(line, line1,l)\n"
   ]
  },
  {
   "cell_type": "code",
   "execution_count": 32,
   "metadata": {},
   "outputs": [
    {
     "name": "stdout",
     "output_type": "stream",
     "text": [
      "У\n"
     ]
    }
   ],
   "source": [
    "with open('test.txt','r', encoding='UTF-8') as a:\n",
    "    l = a.readline(1)\n",
    "print(l)"
   ]
  },
  {
   "cell_type": "code",
   "execution_count": 34,
   "metadata": {},
   "outputs": [
    {
     "name": "stdout",
     "output_type": "stream",
     "text": [
      "['Унылая пора! Очей очарованье!\\n', 'Приятна мне твоя прощальная краса —\\n', 'Люблю я пышное природы увяданье,\\n', 'В багрец и в золото одетые леса,\\n', 'В их сенях ветра шум и свежее дыханье,\\n', 'И мглой волнистою покрыты небеса,\\n', 'И редкий солнца луч, и первые морозы,\\n', 'И отдаленные седой зимы угрозы.\\n']\n",
      "Люблю я пышное природы увяданье,\n",
      "\n"
     ]
    }
   ],
   "source": [
    "with open('test1.txt','r', encoding='UTF-8') as f:\n",
    "    l = f.readlines()\n",
    "print(l)\n",
    "print(l[2])"
   ]
  },
  {
   "cell_type": "code",
   "execution_count": 36,
   "metadata": {},
   "outputs": [
    {
     "name": "stdout",
     "output_type": "stream",
     "text": [
      "['Унылая пора\\n', 'Очей очарование']\n"
     ]
    }
   ],
   "source": [
    "with open('test.txt', encoding='UTF-8') as f:\n",
    "    l = f.readlines()\n",
    "print(l)"
   ]
  },
  {
   "cell_type": "code",
   "execution_count": 40,
   "metadata": {},
   "outputs": [
    {
     "name": "stdout",
     "output_type": "stream",
     "text": [
      "Унылая пора! Очей очарованье!\n",
      "\n",
      "Приятна мне твоя прощальная краса —\n",
      "\n",
      "Люблю я пышное природы увяданье,\n",
      "\n"
     ]
    }
   ],
   "source": [
    "with open('test1.txt', 'r', encoding='utf8') as f:\n",
    "    l = f.readline()\n",
    "    print(l)\n",
    "    l = f.readline()\n",
    "    print(l)\n",
    "    l = f.readline()\n",
    "    print(l)\n",
    "\n",
    "\n"
   ]
  }
 ],
 "metadata": {
  "kernelspec": {
   "display_name": "Python 3.10.8 ('venv': venv)",
   "language": "python",
   "name": "python3"
  },
  "language_info": {
   "codemirror_mode": {
    "name": "ipython",
    "version": 3
   },
   "file_extension": ".py",
   "mimetype": "text/x-python",
   "name": "python",
   "nbconvert_exporter": "python",
   "pygments_lexer": "ipython3",
   "version": "3.10.8"
  },
  "orig_nbformat": 4,
  "vscode": {
   "interpreter": {
    "hash": "989b18c85b380cb5d4dc88751aba259d5b2349ae82f143d55ba9fdb5c3f8c88a"
   }
  }
 },
 "nbformat": 4,
 "nbformat_minor": 2
}
